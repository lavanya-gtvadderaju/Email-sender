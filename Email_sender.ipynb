{
  "nbformat": 4,
  "nbformat_minor": 0,
  "metadata": {
    "colab": {
      "provenance": [],
      "authorship_tag": "ABX9TyNl2+9mIYe9Nhgv15Ohwf2Y"
    },
    "kernelspec": {
      "name": "python3",
      "display_name": "Python 3"
    },
    "language_info": {
      "name": "python"
    }
  },
  "cells": [
    {
      "cell_type": "code",
      "source": [
        "import colab.utils "
      ],
      "metadata": {
        "id": "HMuBj8Gl2OPj"
      },
      "execution_count": 7,
      "outputs": []
    },
    {
      "cell_type": "code",
      "source": [
        "from email.message import EmailMessage\n",
        "#from app2 import password\n",
        "import ssl\n",
        "import smtplib\n",
        "email_sender = 'gtlvadderaju.prjcts9700@gmail.com'\n",
        "email_password = 'password-customised'\n",
        "email_receiver ='lavanyagtvadderaju@gmail.com'\n",
        "subject =\"hi lavanya01!\"\n",
        "body =\"\"\"\n",
        "\\Subject: hi lava\n",
        "\n",
        "add today's tasks to you to do list and complete it\"\"\"\n",
        "em = EmailMessage()\n",
        "em['from'] = email_sender\n",
        "em['to'] = email_receiver \n",
        "em.set_content(body)\n",
        "# em[' subject'] = subject\n",
        "\n",
        "context = ssl.create_default_context()\n",
        "with smtplib.SMTP_SSL('smtp.gmail.com' , 465, context=context) as smtp:\n",
        "    smtp.login(email_sender,email_password)\n",
        "    smtp.sendmail(email_sender, email_receiver, em.as_string())\n",
        "\n",
        "\n"
      ],
      "metadata": {
        "id": "jVrUGAHoAp9L"
      },
      "execution_count": 1,
      "outputs": []
    },
    {
      "cell_type": "code",
      "source": [],
      "metadata": {
        "id": "9T_0BujX1kCJ"
      },
      "execution_count": null,
      "outputs": []
    }
  ]
}